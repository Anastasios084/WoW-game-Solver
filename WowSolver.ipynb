{
  "cells": [
    {
      "cell_type": "code",
      "execution_count": null,
      "metadata": {
        "colab": {
          "base_uri": "https://localhost:8080/"
        },
        "id": "xYHsJ2XG9lWc",
        "outputId": "e7079477-bc66-4578-e2ce-f39977cd89c6"
      },
      "outputs": [
        {
          "output_type": "stream",
          "name": "stdout",
          "text": [
            "Mounted at /content/gdrive/\n"
          ]
        }
      ],
      "source": [
        "from google.colab import drive\n",
        "\n",
        "drive.mount('/content/gdrive/', force_remount=True)\n"
      ]
    },
    {
      "cell_type": "code",
      "execution_count": null,
      "metadata": {
        "id": "TjR74GaXAbi8"
      },
      "outputs": [],
      "source": [
        "# with open('/content/gdrive/My Drive/updated-greek-dic.txt') as f:\n",
        "#     lines = f.readlines()\n",
        "\n",
        "with open('/content/gdrive/My Drive/updated-el.txt') as f:\n",
        "    lines = f.readlines()"
      ]
    },
    {
      "cell_type": "code",
      "execution_count": null,
      "metadata": {
        "colab": {
          "base_uri": "https://localhost:8080/"
        },
        "id": "atFCVQ2MAu9B",
        "outputId": "814ff8d8-7049-453a-daae-1923abd7556e"
      },
      "outputs": [
        {
          "output_type": "execute_result",
          "data": {
            "text/plain": [
              "178712"
            ]
          },
          "metadata": {},
          "execution_count": 3
        }
      ],
      "source": [
        "len(lines)"
      ]
    },
    {
      "cell_type": "code",
      "execution_count": null,
      "metadata": {
        "colab": {
          "base_uri": "https://localhost:8080/",
          "height": 36
        },
        "id": "7CGC4XUwBPXA",
        "outputId": "33b3ee3d-dc8f-44f9-c8c3-05eff1ce4491"
      },
      "outputs": [
        {
          "output_type": "execute_result",
          "data": {
            "text/plain": [
              "'ΑΒΑΕΙΟ\\n'"
            ],
            "application/vnd.google.colaboratory.intrinsic+json": {
              "type": "string"
            }
          },
          "metadata": {},
          "execution_count": 4
        }
      ],
      "source": [
        "lines[10]"
      ]
    },
    {
      "cell_type": "code",
      "execution_count": null,
      "metadata": {
        "id": "aFQXVt4WFEtC"
      },
      "outputs": [],
      "source": [
        "for i in range(len(lines)):\n",
        "  lines[i] = lines[i][:-1]"
      ]
    },
    {
      "cell_type": "code",
      "execution_count": null,
      "metadata": {
        "colab": {
          "base_uri": "https://localhost:8080/",
          "height": 36
        },
        "id": "GjiRavRYFWp9",
        "outputId": "146385bb-22b4-4f42-c934-ed7053f540fa"
      },
      "outputs": [
        {
          "output_type": "execute_result",
          "data": {
            "text/plain": [
              "'ΑΒΑΕΙΟ'"
            ],
            "application/vnd.google.colaboratory.intrinsic+json": {
              "type": "string"
            }
          },
          "metadata": {},
          "execution_count": 6
        }
      ],
      "source": [
        "lines[10]"
      ]
    },
    {
      "cell_type": "code",
      "execution_count": null,
      "metadata": {
        "colab": {
          "base_uri": "https://localhost:8080/"
        },
        "id": "9uyugjQ7Fy96",
        "outputId": "ca1a81a9-fbf8-44bb-ec8b-f75cb95553eb"
      },
      "outputs": [
        {
          "output_type": "stream",
          "name": "stdout",
          "text": [
            "ENTER LETTERS IN UPPPERCASE AND SPACED: \n",
            "\n",
            "Γ Α Ω Ρ Η\n",
            "['Γ', 'Α', 'Ω', 'Ρ', 'Η']\n"
          ]
        }
      ],
      "source": [
        "from itertools import permutations\n",
        "print(\"ENTER LETTERS IN UPPPERCASE AND SPACED: \\n\")\n",
        "letters = input('')\n",
        "letters = letters.split()\n",
        "print(letters)"
      ]
    },
    {
      "cell_type": "code",
      "execution_count": null,
      "metadata": {
        "colab": {
          "base_uri": "https://localhost:8080/"
        },
        "id": "Pix_QiDKH8uD",
        "outputId": "7b2eb85c-e419-4baa-9099-5ff5c346399e"
      },
      "outputs": [
        {
          "output_type": "stream",
          "name": "stdout",
          "text": [
            "('Γ', 'Α', 'Ω', 'Ρ', 'Η')\n",
            "('Γ', 'Α', 'Ω', 'Η', 'Ρ')\n",
            "('Γ', 'Α', 'Ρ', 'Ω', 'Η')\n",
            "('Γ', 'Α', 'Ρ', 'Η', 'Ω')\n",
            "('Γ', 'Α', 'Η', 'Ω', 'Ρ')\n",
            "('Γ', 'Α', 'Η', 'Ρ', 'Ω')\n",
            "('Γ', 'Ω', 'Α', 'Ρ', 'Η')\n",
            "('Γ', 'Ω', 'Α', 'Η', 'Ρ')\n",
            "('Γ', 'Ω', 'Ρ', 'Α', 'Η')\n",
            "('Γ', 'Ω', 'Ρ', 'Η', 'Α')\n",
            "('Γ', 'Ω', 'Η', 'Α', 'Ρ')\n",
            "('Γ', 'Ω', 'Η', 'Ρ', 'Α')\n",
            "('Γ', 'Ρ', 'Α', 'Ω', 'Η')\n",
            "('Γ', 'Ρ', 'Α', 'Η', 'Ω')\n",
            "('Γ', 'Ρ', 'Ω', 'Α', 'Η')\n",
            "('Γ', 'Ρ', 'Ω', 'Η', 'Α')\n",
            "('Γ', 'Ρ', 'Η', 'Α', 'Ω')\n",
            "('Γ', 'Ρ', 'Η', 'Ω', 'Α')\n",
            "('Γ', 'Η', 'Α', 'Ω', 'Ρ')\n",
            "('Γ', 'Η', 'Α', 'Ρ', 'Ω')\n",
            "('Γ', 'Η', 'Ω', 'Α', 'Ρ')\n",
            "('Γ', 'Η', 'Ω', 'Ρ', 'Α')\n",
            "('Γ', 'Η', 'Ρ', 'Α', 'Ω')\n",
            "('Γ', 'Η', 'Ρ', 'Ω', 'Α')\n",
            "('Α', 'Γ', 'Ω', 'Ρ', 'Η')\n",
            "('Α', 'Γ', 'Ω', 'Η', 'Ρ')\n",
            "('Α', 'Γ', 'Ρ', 'Ω', 'Η')\n",
            "('Α', 'Γ', 'Ρ', 'Η', 'Ω')\n",
            "('Α', 'Γ', 'Η', 'Ω', 'Ρ')\n",
            "('Α', 'Γ', 'Η', 'Ρ', 'Ω')\n",
            "('Α', 'Ω', 'Γ', 'Ρ', 'Η')\n",
            "('Α', 'Ω', 'Γ', 'Η', 'Ρ')\n",
            "('Α', 'Ω', 'Ρ', 'Γ', 'Η')\n",
            "('Α', 'Ω', 'Ρ', 'Η', 'Γ')\n",
            "('Α', 'Ω', 'Η', 'Γ', 'Ρ')\n",
            "('Α', 'Ω', 'Η', 'Ρ', 'Γ')\n",
            "('Α', 'Ρ', 'Γ', 'Ω', 'Η')\n",
            "('Α', 'Ρ', 'Γ', 'Η', 'Ω')\n",
            "('Α', 'Ρ', 'Ω', 'Γ', 'Η')\n",
            "('Α', 'Ρ', 'Ω', 'Η', 'Γ')\n",
            "('Α', 'Ρ', 'Η', 'Γ', 'Ω')\n",
            "('Α', 'Ρ', 'Η', 'Ω', 'Γ')\n",
            "('Α', 'Η', 'Γ', 'Ω', 'Ρ')\n",
            "('Α', 'Η', 'Γ', 'Ρ', 'Ω')\n",
            "('Α', 'Η', 'Ω', 'Γ', 'Ρ')\n",
            "('Α', 'Η', 'Ω', 'Ρ', 'Γ')\n",
            "('Α', 'Η', 'Ρ', 'Γ', 'Ω')\n",
            "('Α', 'Η', 'Ρ', 'Ω', 'Γ')\n",
            "('Ω', 'Γ', 'Α', 'Ρ', 'Η')\n",
            "('Ω', 'Γ', 'Α', 'Η', 'Ρ')\n",
            "('Ω', 'Γ', 'Ρ', 'Α', 'Η')\n",
            "('Ω', 'Γ', 'Ρ', 'Η', 'Α')\n",
            "('Ω', 'Γ', 'Η', 'Α', 'Ρ')\n",
            "('Ω', 'Γ', 'Η', 'Ρ', 'Α')\n",
            "('Ω', 'Α', 'Γ', 'Ρ', 'Η')\n",
            "('Ω', 'Α', 'Γ', 'Η', 'Ρ')\n",
            "('Ω', 'Α', 'Ρ', 'Γ', 'Η')\n",
            "('Ω', 'Α', 'Ρ', 'Η', 'Γ')\n",
            "('Ω', 'Α', 'Η', 'Γ', 'Ρ')\n",
            "('Ω', 'Α', 'Η', 'Ρ', 'Γ')\n",
            "('Ω', 'Ρ', 'Γ', 'Α', 'Η')\n",
            "('Ω', 'Ρ', 'Γ', 'Η', 'Α')\n",
            "('Ω', 'Ρ', 'Α', 'Γ', 'Η')\n",
            "('Ω', 'Ρ', 'Α', 'Η', 'Γ')\n",
            "('Ω', 'Ρ', 'Η', 'Γ', 'Α')\n",
            "('Ω', 'Ρ', 'Η', 'Α', 'Γ')\n",
            "('Ω', 'Η', 'Γ', 'Α', 'Ρ')\n",
            "('Ω', 'Η', 'Γ', 'Ρ', 'Α')\n",
            "('Ω', 'Η', 'Α', 'Γ', 'Ρ')\n",
            "('Ω', 'Η', 'Α', 'Ρ', 'Γ')\n",
            "('Ω', 'Η', 'Ρ', 'Γ', 'Α')\n",
            "('Ω', 'Η', 'Ρ', 'Α', 'Γ')\n",
            "('Ρ', 'Γ', 'Α', 'Ω', 'Η')\n",
            "('Ρ', 'Γ', 'Α', 'Η', 'Ω')\n",
            "('Ρ', 'Γ', 'Ω', 'Α', 'Η')\n",
            "('Ρ', 'Γ', 'Ω', 'Η', 'Α')\n",
            "('Ρ', 'Γ', 'Η', 'Α', 'Ω')\n",
            "('Ρ', 'Γ', 'Η', 'Ω', 'Α')\n",
            "('Ρ', 'Α', 'Γ', 'Ω', 'Η')\n",
            "('Ρ', 'Α', 'Γ', 'Η', 'Ω')\n",
            "('Ρ', 'Α', 'Ω', 'Γ', 'Η')\n",
            "('Ρ', 'Α', 'Ω', 'Η', 'Γ')\n",
            "('Ρ', 'Α', 'Η', 'Γ', 'Ω')\n",
            "('Ρ', 'Α', 'Η', 'Ω', 'Γ')\n",
            "('Ρ', 'Ω', 'Γ', 'Α', 'Η')\n",
            "('Ρ', 'Ω', 'Γ', 'Η', 'Α')\n",
            "('Ρ', 'Ω', 'Α', 'Γ', 'Η')\n",
            "('Ρ', 'Ω', 'Α', 'Η', 'Γ')\n",
            "('Ρ', 'Ω', 'Η', 'Γ', 'Α')\n",
            "('Ρ', 'Ω', 'Η', 'Α', 'Γ')\n",
            "('Ρ', 'Η', 'Γ', 'Α', 'Ω')\n",
            "('Ρ', 'Η', 'Γ', 'Ω', 'Α')\n",
            "('Ρ', 'Η', 'Α', 'Γ', 'Ω')\n",
            "('Ρ', 'Η', 'Α', 'Ω', 'Γ')\n",
            "('Ρ', 'Η', 'Ω', 'Γ', 'Α')\n",
            "('Ρ', 'Η', 'Ω', 'Α', 'Γ')\n",
            "('Η', 'Γ', 'Α', 'Ω', 'Ρ')\n",
            "('Η', 'Γ', 'Α', 'Ρ', 'Ω')\n",
            "('Η', 'Γ', 'Ω', 'Α', 'Ρ')\n",
            "('Η', 'Γ', 'Ω', 'Ρ', 'Α')\n",
            "('Η', 'Γ', 'Ρ', 'Α', 'Ω')\n",
            "('Η', 'Γ', 'Ρ', 'Ω', 'Α')\n",
            "('Η', 'Α', 'Γ', 'Ω', 'Ρ')\n",
            "('Η', 'Α', 'Γ', 'Ρ', 'Ω')\n",
            "('Η', 'Α', 'Ω', 'Γ', 'Ρ')\n",
            "('Η', 'Α', 'Ω', 'Ρ', 'Γ')\n",
            "('Η', 'Α', 'Ρ', 'Γ', 'Ω')\n",
            "('Η', 'Α', 'Ρ', 'Ω', 'Γ')\n",
            "('Η', 'Ω', 'Γ', 'Α', 'Ρ')\n",
            "('Η', 'Ω', 'Γ', 'Ρ', 'Α')\n",
            "('Η', 'Ω', 'Α', 'Γ', 'Ρ')\n",
            "('Η', 'Ω', 'Α', 'Ρ', 'Γ')\n",
            "('Η', 'Ω', 'Ρ', 'Γ', 'Α')\n",
            "('Η', 'Ω', 'Ρ', 'Α', 'Γ')\n",
            "('Η', 'Ρ', 'Γ', 'Α', 'Ω')\n",
            "('Η', 'Ρ', 'Γ', 'Ω', 'Α')\n",
            "('Η', 'Ρ', 'Α', 'Γ', 'Ω')\n",
            "('Η', 'Ρ', 'Α', 'Ω', 'Γ')\n",
            "('Η', 'Ρ', 'Ω', 'Γ', 'Α')\n",
            "('Η', 'Ρ', 'Ω', 'Α', 'Γ')\n"
          ]
        }
      ],
      "source": [
        "perm = list(permutations(letters))\n",
        "for i in perm:\n",
        "  print(i)"
      ]
    },
    {
      "cell_type": "code",
      "execution_count": null,
      "metadata": {
        "colab": {
          "base_uri": "https://localhost:8080/"
        },
        "id": "wstnUPaKNi3v",
        "outputId": "69c98935-a21e-4e29-ff82-62b5a925e958"
      },
      "outputs": [
        {
          "output_type": "execute_result",
          "data": {
            "text/plain": [
              "120"
            ]
          },
          "metadata": {},
          "execution_count": 9
        }
      ],
      "source": [
        "len(perm)"
      ]
    },
    {
      "cell_type": "code",
      "execution_count": null,
      "metadata": {
        "id": "aIKKDphNNtx3"
      },
      "outputs": [],
      "source": [
        "perm = list( dict.fromkeys(perm) )"
      ]
    },
    {
      "cell_type": "code",
      "execution_count": null,
      "metadata": {
        "colab": {
          "base_uri": "https://localhost:8080/"
        },
        "id": "sBy8uwo3N1HB",
        "outputId": "c9abc7ff-7221-4471-da5e-f2c8b9dd3a5b"
      },
      "outputs": [
        {
          "output_type": "execute_result",
          "data": {
            "text/plain": [
              "120"
            ]
          },
          "metadata": {},
          "execution_count": 11
        }
      ],
      "source": [
        "len(perm)"
      ]
    },
    {
      "cell_type": "code",
      "execution_count": null,
      "metadata": {
        "colab": {
          "base_uri": "https://localhost:8080/"
        },
        "id": "UP0OnJfGN9Du",
        "outputId": "a2ae4d6f-b8bf-4033-e394-2c1ff3673308"
      },
      "outputs": [
        {
          "output_type": "execute_result",
          "data": {
            "text/plain": [
              "[('Γ', 'Α', 'Ω', 'Ρ', 'Η'),\n",
              " ('Γ', 'Α', 'Ω', 'Η', 'Ρ'),\n",
              " ('Γ', 'Α', 'Ρ', 'Ω', 'Η'),\n",
              " ('Γ', 'Α', 'Ρ', 'Η', 'Ω'),\n",
              " ('Γ', 'Α', 'Η', 'Ω', 'Ρ'),\n",
              " ('Γ', 'Α', 'Η', 'Ρ', 'Ω'),\n",
              " ('Γ', 'Ω', 'Α', 'Ρ', 'Η'),\n",
              " ('Γ', 'Ω', 'Α', 'Η', 'Ρ'),\n",
              " ('Γ', 'Ω', 'Ρ', 'Α', 'Η'),\n",
              " ('Γ', 'Ω', 'Ρ', 'Η', 'Α'),\n",
              " ('Γ', 'Ω', 'Η', 'Α', 'Ρ'),\n",
              " ('Γ', 'Ω', 'Η', 'Ρ', 'Α'),\n",
              " ('Γ', 'Ρ', 'Α', 'Ω', 'Η'),\n",
              " ('Γ', 'Ρ', 'Α', 'Η', 'Ω'),\n",
              " ('Γ', 'Ρ', 'Ω', 'Α', 'Η'),\n",
              " ('Γ', 'Ρ', 'Ω', 'Η', 'Α'),\n",
              " ('Γ', 'Ρ', 'Η', 'Α', 'Ω'),\n",
              " ('Γ', 'Ρ', 'Η', 'Ω', 'Α'),\n",
              " ('Γ', 'Η', 'Α', 'Ω', 'Ρ'),\n",
              " ('Γ', 'Η', 'Α', 'Ρ', 'Ω'),\n",
              " ('Γ', 'Η', 'Ω', 'Α', 'Ρ'),\n",
              " ('Γ', 'Η', 'Ω', 'Ρ', 'Α'),\n",
              " ('Γ', 'Η', 'Ρ', 'Α', 'Ω'),\n",
              " ('Γ', 'Η', 'Ρ', 'Ω', 'Α'),\n",
              " ('Α', 'Γ', 'Ω', 'Ρ', 'Η'),\n",
              " ('Α', 'Γ', 'Ω', 'Η', 'Ρ'),\n",
              " ('Α', 'Γ', 'Ρ', 'Ω', 'Η'),\n",
              " ('Α', 'Γ', 'Ρ', 'Η', 'Ω'),\n",
              " ('Α', 'Γ', 'Η', 'Ω', 'Ρ'),\n",
              " ('Α', 'Γ', 'Η', 'Ρ', 'Ω'),\n",
              " ('Α', 'Ω', 'Γ', 'Ρ', 'Η'),\n",
              " ('Α', 'Ω', 'Γ', 'Η', 'Ρ'),\n",
              " ('Α', 'Ω', 'Ρ', 'Γ', 'Η'),\n",
              " ('Α', 'Ω', 'Ρ', 'Η', 'Γ'),\n",
              " ('Α', 'Ω', 'Η', 'Γ', 'Ρ'),\n",
              " ('Α', 'Ω', 'Η', 'Ρ', 'Γ'),\n",
              " ('Α', 'Ρ', 'Γ', 'Ω', 'Η'),\n",
              " ('Α', 'Ρ', 'Γ', 'Η', 'Ω'),\n",
              " ('Α', 'Ρ', 'Ω', 'Γ', 'Η'),\n",
              " ('Α', 'Ρ', 'Ω', 'Η', 'Γ'),\n",
              " ('Α', 'Ρ', 'Η', 'Γ', 'Ω'),\n",
              " ('Α', 'Ρ', 'Η', 'Ω', 'Γ'),\n",
              " ('Α', 'Η', 'Γ', 'Ω', 'Ρ'),\n",
              " ('Α', 'Η', 'Γ', 'Ρ', 'Ω'),\n",
              " ('Α', 'Η', 'Ω', 'Γ', 'Ρ'),\n",
              " ('Α', 'Η', 'Ω', 'Ρ', 'Γ'),\n",
              " ('Α', 'Η', 'Ρ', 'Γ', 'Ω'),\n",
              " ('Α', 'Η', 'Ρ', 'Ω', 'Γ'),\n",
              " ('Ω', 'Γ', 'Α', 'Ρ', 'Η'),\n",
              " ('Ω', 'Γ', 'Α', 'Η', 'Ρ'),\n",
              " ('Ω', 'Γ', 'Ρ', 'Α', 'Η'),\n",
              " ('Ω', 'Γ', 'Ρ', 'Η', 'Α'),\n",
              " ('Ω', 'Γ', 'Η', 'Α', 'Ρ'),\n",
              " ('Ω', 'Γ', 'Η', 'Ρ', 'Α'),\n",
              " ('Ω', 'Α', 'Γ', 'Ρ', 'Η'),\n",
              " ('Ω', 'Α', 'Γ', 'Η', 'Ρ'),\n",
              " ('Ω', 'Α', 'Ρ', 'Γ', 'Η'),\n",
              " ('Ω', 'Α', 'Ρ', 'Η', 'Γ'),\n",
              " ('Ω', 'Α', 'Η', 'Γ', 'Ρ'),\n",
              " ('Ω', 'Α', 'Η', 'Ρ', 'Γ'),\n",
              " ('Ω', 'Ρ', 'Γ', 'Α', 'Η'),\n",
              " ('Ω', 'Ρ', 'Γ', 'Η', 'Α'),\n",
              " ('Ω', 'Ρ', 'Α', 'Γ', 'Η'),\n",
              " ('Ω', 'Ρ', 'Α', 'Η', 'Γ'),\n",
              " ('Ω', 'Ρ', 'Η', 'Γ', 'Α'),\n",
              " ('Ω', 'Ρ', 'Η', 'Α', 'Γ'),\n",
              " ('Ω', 'Η', 'Γ', 'Α', 'Ρ'),\n",
              " ('Ω', 'Η', 'Γ', 'Ρ', 'Α'),\n",
              " ('Ω', 'Η', 'Α', 'Γ', 'Ρ'),\n",
              " ('Ω', 'Η', 'Α', 'Ρ', 'Γ'),\n",
              " ('Ω', 'Η', 'Ρ', 'Γ', 'Α'),\n",
              " ('Ω', 'Η', 'Ρ', 'Α', 'Γ'),\n",
              " ('Ρ', 'Γ', 'Α', 'Ω', 'Η'),\n",
              " ('Ρ', 'Γ', 'Α', 'Η', 'Ω'),\n",
              " ('Ρ', 'Γ', 'Ω', 'Α', 'Η'),\n",
              " ('Ρ', 'Γ', 'Ω', 'Η', 'Α'),\n",
              " ('Ρ', 'Γ', 'Η', 'Α', 'Ω'),\n",
              " ('Ρ', 'Γ', 'Η', 'Ω', 'Α'),\n",
              " ('Ρ', 'Α', 'Γ', 'Ω', 'Η'),\n",
              " ('Ρ', 'Α', 'Γ', 'Η', 'Ω'),\n",
              " ('Ρ', 'Α', 'Ω', 'Γ', 'Η'),\n",
              " ('Ρ', 'Α', 'Ω', 'Η', 'Γ'),\n",
              " ('Ρ', 'Α', 'Η', 'Γ', 'Ω'),\n",
              " ('Ρ', 'Α', 'Η', 'Ω', 'Γ'),\n",
              " ('Ρ', 'Ω', 'Γ', 'Α', 'Η'),\n",
              " ('Ρ', 'Ω', 'Γ', 'Η', 'Α'),\n",
              " ('Ρ', 'Ω', 'Α', 'Γ', 'Η'),\n",
              " ('Ρ', 'Ω', 'Α', 'Η', 'Γ'),\n",
              " ('Ρ', 'Ω', 'Η', 'Γ', 'Α'),\n",
              " ('Ρ', 'Ω', 'Η', 'Α', 'Γ'),\n",
              " ('Ρ', 'Η', 'Γ', 'Α', 'Ω'),\n",
              " ('Ρ', 'Η', 'Γ', 'Ω', 'Α'),\n",
              " ('Ρ', 'Η', 'Α', 'Γ', 'Ω'),\n",
              " ('Ρ', 'Η', 'Α', 'Ω', 'Γ'),\n",
              " ('Ρ', 'Η', 'Ω', 'Γ', 'Α'),\n",
              " ('Ρ', 'Η', 'Ω', 'Α', 'Γ'),\n",
              " ('Η', 'Γ', 'Α', 'Ω', 'Ρ'),\n",
              " ('Η', 'Γ', 'Α', 'Ρ', 'Ω'),\n",
              " ('Η', 'Γ', 'Ω', 'Α', 'Ρ'),\n",
              " ('Η', 'Γ', 'Ω', 'Ρ', 'Α'),\n",
              " ('Η', 'Γ', 'Ρ', 'Α', 'Ω'),\n",
              " ('Η', 'Γ', 'Ρ', 'Ω', 'Α'),\n",
              " ('Η', 'Α', 'Γ', 'Ω', 'Ρ'),\n",
              " ('Η', 'Α', 'Γ', 'Ρ', 'Ω'),\n",
              " ('Η', 'Α', 'Ω', 'Γ', 'Ρ'),\n",
              " ('Η', 'Α', 'Ω', 'Ρ', 'Γ'),\n",
              " ('Η', 'Α', 'Ρ', 'Γ', 'Ω'),\n",
              " ('Η', 'Α', 'Ρ', 'Ω', 'Γ'),\n",
              " ('Η', 'Ω', 'Γ', 'Α', 'Ρ'),\n",
              " ('Η', 'Ω', 'Γ', 'Ρ', 'Α'),\n",
              " ('Η', 'Ω', 'Α', 'Γ', 'Ρ'),\n",
              " ('Η', 'Ω', 'Α', 'Ρ', 'Γ'),\n",
              " ('Η', 'Ω', 'Ρ', 'Γ', 'Α'),\n",
              " ('Η', 'Ω', 'Ρ', 'Α', 'Γ'),\n",
              " ('Η', 'Ρ', 'Γ', 'Α', 'Ω'),\n",
              " ('Η', 'Ρ', 'Γ', 'Ω', 'Α'),\n",
              " ('Η', 'Ρ', 'Α', 'Γ', 'Ω'),\n",
              " ('Η', 'Ρ', 'Α', 'Ω', 'Γ'),\n",
              " ('Η', 'Ρ', 'Ω', 'Γ', 'Α'),\n",
              " ('Η', 'Ρ', 'Ω', 'Α', 'Γ')]"
            ]
          },
          "metadata": {},
          "execution_count": 12
        }
      ],
      "source": [
        "perm\n"
      ]
    },
    {
      "cell_type": "code",
      "execution_count": null,
      "metadata": {
        "colab": {
          "base_uri": "https://localhost:8080/"
        },
        "id": "5J4A7GBvLDQu",
        "outputId": "6b35e4af-f302-46d5-b9bd-9445eee8a5c8"
      },
      "outputs": [
        {
          "output_type": "stream",
          "name": "stdout",
          "text": [
            "('Γ', 'Α', 'Ω')\n",
            "('Γ', 'Α', 'Ρ')\n",
            "('Γ', 'Α', 'Η')\n",
            "('Γ', 'Ω', 'Ρ')\n",
            "('Γ', 'Ω', 'Η')\n",
            "('Γ', 'Ρ', 'Η')\n",
            "('Α', 'Ω', 'Ρ')\n",
            "('Α', 'Ω', 'Η')\n",
            "('Α', 'Ρ', 'Η')\n",
            "('Ω', 'Ρ', 'Η')\n"
          ]
        }
      ],
      "source": [
        "from itertools import combinations\n",
        "comb = combinations(perm[0],3)\n",
        "for i in list(comb):\n",
        "  print(i)"
      ]
    },
    {
      "cell_type": "code",
      "execution_count": null,
      "metadata": {
        "id": "N-95Du1_I_6V"
      },
      "outputs": [],
      "source": [
        "from itertools import combinations\n",
        "possible_words = []\n",
        "for permutation in perm:\n",
        "# permutation  = perm[0]\n",
        "  combs = []\n",
        "  for i in range(3,len(letters)+1):\n",
        "    comb = list(combinations(list(permutation), i))\n",
        "    for word in comb:\n",
        "      possible_words.append(\"\".join(list(word)))\n",
        "    # possible_words.append(\"\".join(list(combinations(list(permutation), i))))\n",
        "\n",
        "# print(possible_words)"
      ]
    },
    {
      "cell_type": "code",
      "execution_count": null,
      "metadata": {
        "colab": {
          "base_uri": "https://localhost:8080/"
        },
        "id": "VeeS-1ytJKXF",
        "outputId": "e41f949e-57d9-47b1-ddb6-c56e2ac88973"
      },
      "outputs": [
        {
          "output_type": "execute_result",
          "data": {
            "text/plain": [
              "1920"
            ]
          },
          "metadata": {},
          "execution_count": 15
        }
      ],
      "source": [
        "len(possible_words)"
      ]
    },
    {
      "cell_type": "code",
      "execution_count": null,
      "metadata": {
        "id": "WlzeUhLZQraA"
      },
      "outputs": [],
      "source": [
        "possible_words = list( dict.fromkeys(possible_words) )"
      ]
    },
    {
      "cell_type": "code",
      "execution_count": null,
      "metadata": {
        "colab": {
          "base_uri": "https://localhost:8080/"
        },
        "id": "PUfuRayuQxbl",
        "outputId": "ad6beda9-bf64-4479-ee69-1e6ab2454a0e"
      },
      "outputs": [
        {
          "output_type": "execute_result",
          "data": {
            "text/plain": [
              "300"
            ]
          },
          "metadata": {},
          "execution_count": 17
        }
      ],
      "source": [
        "len(possible_words)"
      ]
    },
    {
      "cell_type": "code",
      "execution_count": null,
      "metadata": {
        "colab": {
          "base_uri": "https://localhost:8080/"
        },
        "id": "b4ceDPWaQ645",
        "outputId": "039a443f-3e62-48ce-bf7a-501ad36d297a"
      },
      "outputs": [
        {
          "output_type": "stream",
          "name": "stdout",
          "text": [
            "ΑΓΡΗ\n",
            "ΑΓΩ\n",
            "ΑΓΩ\n",
            "ΑΗΡ\n",
            "ΑΡΓΩ\n",
            "ΑΡΩΓΗ\n",
            "ΓΑΡ\n",
            "ΓΡΑ\n",
            "ΗΡΑ\n",
            "ΡΑΓΗ\n",
            "ΡΩΓΑ\n",
            "ΩΡΑ\n",
            "ΩΡΑ\n"
          ]
        }
      ],
      "source": [
        "words = []\n",
        "for word in lines:\n",
        "  for possible_word in possible_words:\n",
        "    if word == possible_word:\n",
        "      print(word)\n",
        "      words.append(word)\n",
        "      break"
      ]
    },
    {
      "cell_type": "code",
      "execution_count": null,
      "metadata": {
        "colab": {
          "base_uri": "https://localhost:8080/"
        },
        "id": "rr8M5uKbfPpF",
        "outputId": "87e903cf-c024-41d2-98fd-ddbda9a12415"
      },
      "outputs": [
        {
          "output_type": "execute_result",
          "data": {
            "text/plain": [
              "['ΑΓΡΗ',\n",
              " 'ΑΓΩ',\n",
              " 'ΑΓΩ',\n",
              " 'ΑΗΡ',\n",
              " 'ΑΡΓΩ',\n",
              " 'ΑΡΩΓΗ',\n",
              " 'ΓΑΡ',\n",
              " 'ΓΡΑ',\n",
              " 'ΗΡΑ',\n",
              " 'ΡΑΓΗ',\n",
              " 'ΡΩΓΑ',\n",
              " 'ΩΡΑ',\n",
              " 'ΩΡΑ']"
            ]
          },
          "metadata": {},
          "execution_count": 19
        }
      ],
      "source": [
        "words"
      ]
    },
    {
      "cell_type": "code",
      "execution_count": null,
      "metadata": {
        "id": "3V-oTPKOeJL3"
      },
      "outputs": [],
      "source": [
        "words = list( dict.fromkeys(words) )"
      ]
    },
    {
      "cell_type": "code",
      "execution_count": null,
      "metadata": {
        "colab": {
          "base_uri": "https://localhost:8080/"
        },
        "id": "8ffgFt-2fUn9",
        "outputId": "16af334a-2610-47b8-cfc4-578d4bc3f905"
      },
      "outputs": [
        {
          "output_type": "execute_result",
          "data": {
            "text/plain": [
              "['ΑΓΡΗ',\n",
              " 'ΑΓΩ',\n",
              " 'ΑΗΡ',\n",
              " 'ΑΡΓΩ',\n",
              " 'ΑΡΩΓΗ',\n",
              " 'ΓΑΡ',\n",
              " 'ΓΡΑ',\n",
              " 'ΗΡΑ',\n",
              " 'ΡΑΓΗ',\n",
              " 'ΡΩΓΑ',\n",
              " 'ΩΡΑ']"
            ]
          },
          "metadata": {},
          "execution_count": 21
        }
      ],
      "source": [
        "words"
      ]
    },
    {
      "cell_type": "code",
      "execution_count": null,
      "metadata": {
        "id": "8ze_75L_faCj"
      },
      "outputs": [],
      "source": [
        "words.sort(key=len)"
      ]
    },
    {
      "cell_type": "code",
      "execution_count": null,
      "metadata": {
        "colab": {
          "base_uri": "https://localhost:8080/"
        },
        "id": "iyoELf-LfwRB",
        "outputId": "81cac518-d7de-42fc-f6e1-03cf256b7edb"
      },
      "outputs": [
        {
          "output_type": "execute_result",
          "data": {
            "text/plain": [
              "['ΑΓΩ',\n",
              " 'ΑΗΡ',\n",
              " 'ΓΑΡ',\n",
              " 'ΓΡΑ',\n",
              " 'ΗΡΑ',\n",
              " 'ΩΡΑ',\n",
              " 'ΑΓΡΗ',\n",
              " 'ΑΡΓΩ',\n",
              " 'ΡΑΓΗ',\n",
              " 'ΡΩΓΑ',\n",
              " 'ΑΡΩΓΗ']"
            ]
          },
          "metadata": {},
          "execution_count": 23
        }
      ],
      "source": [
        "words\n"
      ]
    },
    {
      "cell_type": "code",
      "execution_count": null,
      "metadata": {
        "colab": {
          "base_uri": "https://localhost:8080/"
        },
        "id": "lQ7rT5gif0xB",
        "outputId": "9af60e95-87a1-4446-adc6-f0241bffe8bf"
      },
      "outputs": [
        {
          "output_type": "stream",
          "name": "stdout",
          "text": [
            "------ WORDS WITH SIZE 3 -------\n",
            "ΑΓΩ\n",
            "ΑΗΡ\n",
            "ΓΑΡ\n",
            "ΓΡΑ\n",
            "ΗΡΑ\n",
            "ΩΡΑ\n",
            "------ WORDS WITH SIZE 4 -------\n",
            "ΑΓΡΗ\n",
            "ΑΡΓΩ\n",
            "ΡΑΓΗ\n",
            "ΡΩΓΑ\n",
            "------ WORDS WITH SIZE 5 -------\n",
            "ΑΡΩΓΗ\n"
          ]
        }
      ],
      "source": [
        "size = 0\n",
        "for word in words:\n",
        "  if len(word) > size:\n",
        "    print(\"------ WORDS WITH SIZE \" + str(len(word)) + \" -------\")\n",
        "    size = len(word)\n",
        "  print(word)"
      ]
    },
    {
      "cell_type": "code",
      "execution_count": null,
      "metadata": {
        "id": "ra8_8vd0Ch2T"
      },
      "outputs": [],
      "source": [
        "# d = {ord('\\N{COMBINING ACUTE ACCENT}'):None}"
      ]
    },
    {
      "cell_type": "code",
      "execution_count": null,
      "metadata": {
        "id": "soO1BeaLCoH3"
      },
      "outputs": [],
      "source": [
        "# import unicodedata as ud\n",
        "# newDIC = []\n",
        "# for line in lines:\n",
        "#   newline = ud.normalize('NFD',line).upper().translate(d)\n",
        "#   # newline = newline[:-1]\n",
        "#   newDIC.append(newline)\n",
        "\n"
      ]
    },
    {
      "cell_type": "code",
      "execution_count": null,
      "metadata": {
        "id": "SJIxJPkEDOdd"
      },
      "outputs": [],
      "source": [
        "# newDIC"
      ]
    },
    {
      "cell_type": "code",
      "execution_count": null,
      "metadata": {
        "id": "60ccEnLRDc71"
      },
      "outputs": [],
      "source": [
        "# with open('/content/gdrive/My Drive/updated-greek-dic.txt', 'w') as writefile:\n",
        "#     for line in newDIC:\n",
        "#         # print(line)\n",
        "#         writefile.write(line)"
      ]
    }
  ],
  "metadata": {
    "colab": {
      "provenance": []
    },
    "kernelspec": {
      "display_name": "Python 3",
      "name": "python3"
    },
    "language_info": {
      "name": "python"
    }
  },
  "nbformat": 4,
  "nbformat_minor": 0
}